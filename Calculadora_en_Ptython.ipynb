{
  "nbformat": 4,
  "nbformat_minor": 0,
  "metadata": {
    "colab": {
      "provenance": [],
      "authorship_tag": "ABX9TyMlEYY90YGT9SVNhdnMx3Jk",
      "include_colab_link": true
    },
    "kernelspec": {
      "name": "python3",
      "display_name": "Python 3"
    },
    "language_info": {
      "name": "python"
    }
  },
  "cells": [
    {
      "cell_type": "markdown",
      "metadata": {
        "id": "view-in-github",
        "colab_type": "text"
      },
      "source": [
        "<a href=\"https://colab.research.google.com/github/gustavopaglione/ejerciciospython/blob/master/Calculadora_en_Ptython.ipynb\" target=\"_parent\"><img src=\"https://colab.research.google.com/assets/colab-badge.svg\" alt=\"Open In Colab\"/></a>"
      ]
    },
    {
      "cell_type": "code",
      "source": [
        "n1 = float(input(\"Introduce tu primer número: \") )\n",
        "n2 = float(input(\"Introduce tu segundo número: \") )\n",
        "\n",
        "opcion = 0\n",
        "while True:\n",
        "    print(\"\"\"\n",
        "    Dime, ¿qué quieres hacer?\n",
        "    \n",
        "    1) Sumar los dos números\n",
        "    2) Restar los dos números\n",
        "    3) Multiplicar los dos números\n",
        "    4) Dividir los dos números\n",
        "    5) Cambiar los números elegidos\n",
        "    6) Apagar calculadora\n",
        "    \"\"\")\n",
        "    opcion = int(input(\"Elige una opción: \") )     \n",
        "\n",
        "    if opcion == 1:\n",
        "        print(\" \")\n",
        "        print(\"RESULTADO: La suma de\",n1,\"+\",n2,\"es igual a\",n1+n2)\n",
        "    elif opcion == 2:\n",
        "        print(\" \")\n",
        "        print(\"RESULTADO: La resta de\",n1,\"-\",n2,\"es igual a\",n1-n2)\n",
        "    elif opcion == 3:\n",
        "        print(\" \")\n",
        "        print(\"RESULTADO: La Multiplicación de\",n1,\"*\",n2,\"es igual a\",n1*n2)\n",
        "    elif opcion == 4:\n",
        "        print(\" \")\n",
        "        print(\"RESULTADO: La Division de\",n1,\"/\",n2,\"es igual a\",n1/n2)\n",
        "    elif opcion == 5:\n",
        "        n1 = float(input(\"Introduce tu primer número: \") )\n",
        "        n2 = float(input(\"Introduce tu segundo número: \") )\n",
        "    elif opcion == 6:\n",
        "        break\n",
        "    else:\n",
        "        print(\"Opción incorrecta\")"
      ],
      "metadata": {
        "colab": {
          "base_uri": "https://localhost:8080/"
        },
        "id": "fYVWeiA31shB",
        "outputId": "63adb494-1d7c-466b-9c29-61229e85a611"
      },
      "execution_count": 7,
      "outputs": [
        {
          "name": "stdout",
          "output_type": "stream",
          "text": [
            "Introduce tu primer número: 10\n",
            "Introduce tu segundo número: 5\n",
            "\n",
            "    Dime, ¿qué quieres hacer?\n",
            "    \n",
            "    1) Sumar los dos números\n",
            "    2) Restar los dos números\n",
            "    3) Multiplicar los dos números\n",
            "    4) Dividir los dos números\n",
            "    5) Cambiar los números elegidos\n",
            "    6) Apagar calculadora\n",
            "    \n",
            "Elige una opción: 1\n",
            " \n",
            "RESULTADO: La suma de 10.0 + 5.0 es igual a 15.0\n",
            "\n",
            "    Dime, ¿qué quieres hacer?\n",
            "    \n",
            "    1) Sumar los dos números\n",
            "    2) Restar los dos números\n",
            "    3) Multiplicar los dos números\n",
            "    4) Dividir los dos números\n",
            "    5) Cambiar los números elegidos\n",
            "    6) Apagar calculadora\n",
            "    \n",
            "Elige una opción: 4\n",
            " \n",
            "RESULTADO: La Division de 10.0 / 5.0 es igual a 2.0\n",
            "\n",
            "    Dime, ¿qué quieres hacer?\n",
            "    \n",
            "    1) Sumar los dos números\n",
            "    2) Restar los dos números\n",
            "    3) Multiplicar los dos números\n",
            "    4) Dividir los dos números\n",
            "    5) Cambiar los números elegidos\n",
            "    6) Apagar calculadora\n",
            "    \n",
            "Elige una opción: 6\n"
          ]
        }
      ]
    }
  ]
}