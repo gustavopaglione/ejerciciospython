{
  "nbformat": 4,
  "nbformat_minor": 0,
  "metadata": {
    "colab": {
      "provenance": [],
      "authorship_tag": "ABX9TyOpXFbLmdxyuog0/RbfT/Dc",
      "include_colab_link": true
    },
    "kernelspec": {
      "name": "python3",
      "display_name": "Python 3"
    },
    "language_info": {
      "name": "python"
    }
  },
  "cells": [
    {
      "cell_type": "markdown",
      "metadata": {
        "id": "view-in-github",
        "colab_type": "text"
      },
      "source": [
        "<a href=\"https://colab.research.google.com/github/gustavopaglione/ejerciciospython/blob/master/ejercicio1_6_1.ipynb\" target=\"_parent\"><img src=\"https://colab.research.google.com/assets/colab-badge.svg\" alt=\"Open In Colab\"/></a>"
      ]
    },
    {
      "cell_type": "markdown",
      "source": [
        "En este ejercicio vais a crear la clase Vehículo la cual tendrá los siguientes atributos:\n",
        "\n",
        "Color\n",
        "\n",
        "Ruedas\n",
        "\n",
        "Puertas\n",
        "\n",
        "Por otro lado crearéis la clase Coche la cual heredará de Vehículo y tendrá los siguientes atributos:\n",
        "\n",
        "Velocidad\n",
        "\n",
        "Cilindrada\n",
        "\n",
        "Por último, tendrás que crear un objeto de la clase Coche y mostrarlo por consola."
      ],
      "metadata": {
        "id": "JdPfO88jDsgB"
      }
    },
    {
      "cell_type": "code",
      "execution_count": 10,
      "metadata": {
        "colab": {
          "base_uri": "https://localhost:8080/"
        },
        "id": "4U6SdQciDnlL",
        "outputId": "16e85077-612d-48e6-e4d2-62df92b7818d"
      },
      "outputs": [
        {
          "output_type": "stream",
          "name": "stdout",
          "text": [
            "la velocidad final es de:  200 Km/hs\n",
            "la Cilindrada es de:  1500 cm3\n"
          ]
        }
      ],
      "source": [
        "class Vehiculo():\n",
        "  color =\"rojo\"\n",
        "  ruedas=4\n",
        "  puertas=4\n",
        "\n",
        "class Coche():\n",
        "  velocidad=200\n",
        "  cilindrada=1500\n",
        "\n",
        "\n",
        "\n",
        "c=Coche()\n",
        "print(\"la velocidad final es de: \", c.velocidad, \"Km/hs\")\n",
        "print(\"la Cilindrada es de: \", c.cilindrada, \"cm3\")\n",
        "\n"
      ]
    }
  ]
}