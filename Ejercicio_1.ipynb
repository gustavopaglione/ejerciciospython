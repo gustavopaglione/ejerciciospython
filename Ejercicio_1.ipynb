{
  "nbformat": 4,
  "nbformat_minor": 0,
  "metadata": {
    "colab": {
      "provenance": [],
      "authorship_tag": "ABX9TyP0ggK2WSPeRpaiUV5xcIlT",
      "include_colab_link": true
    },
    "kernelspec": {
      "name": "python3",
      "display_name": "Python 3"
    },
    "language_info": {
      "name": "python"
    }
  },
  "cells": [
    {
      "cell_type": "markdown",
      "metadata": {
        "id": "view-in-github",
        "colab_type": "text"
      },
      "source": [
        "<a href=\"https://colab.research.google.com/github/gustavopaglione/ejerciciospython/blob/master/Ejercicio_1.ipynb\" target=\"_parent\"><img src=\"https://colab.research.google.com/assets/colab-badge.svg\" alt=\"Open In Colab\"/></a>"
      ]
    },
    {
      "cell_type": "markdown",
      "source": [
        "En este ejercicio, tendréis que crear un archivo py donde creéis un archivo txt, lo abráis y escribáis dentro del archivo. Para ello, tendréis que acceder dos veces al archivo creado."
      ],
      "metadata": {
        "id": "jHLSjd7h7pOH"
      }
    },
    {
      "cell_type": "code",
      "execution_count": 1,
      "metadata": {
        "id": "z16zreUe67VK"
      },
      "outputs": [],
      "source": [
        "with open(\"text.txt\",\"w\") as file:\n",
        "    file.write(\"Prueba openbootcamp\\n\")\n",
        "    file.write(\"Prueba openbootcamp 2\\n\")\n",
        "    file.write(\"Prueba openbootcamp 3\")"
      ]
    },
    {
      "cell_type": "code",
      "source": [
        "with  open('text.txt','r') as file:\n",
        "    print(file.read())"
      ],
      "metadata": {
        "colab": {
          "base_uri": "https://localhost:8080/"
        },
        "id": "J-dOuDpz8GI3",
        "outputId": "aa658ab2-9bc6-4914-94c1-5c5dfc5cf5d5"
      },
      "execution_count": 2,
      "outputs": [
        {
          "output_type": "stream",
          "name": "stdout",
          "text": [
            "Prueba openbootcamp\n",
            "Prueba openbootcamp 2\n",
            "Prueba openbootcamp 3\n"
          ]
        }
      ]
    }
  ]
}