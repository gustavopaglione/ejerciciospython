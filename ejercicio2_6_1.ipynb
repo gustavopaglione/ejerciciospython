{
  "nbformat": 4,
  "nbformat_minor": 0,
  "metadata": {
    "colab": {
      "provenance": [],
      "authorship_tag": "ABX9TyOqlZ3t/14wTubycqz56ozG",
      "include_colab_link": true
    },
    "kernelspec": {
      "name": "python3",
      "display_name": "Python 3"
    },
    "language_info": {
      "name": "python"
    }
  },
  "cells": [
    {
      "cell_type": "markdown",
      "metadata": {
        "id": "view-in-github",
        "colab_type": "text"
      },
      "source": [
        "<a href=\"https://colab.research.google.com/github/gustavopaglione/ejerciciospython/blob/master/ejercicio2_6_1.ipynb\" target=\"_parent\"><img src=\"https://colab.research.google.com/assets/colab-badge.svg\" alt=\"Open In Colab\"/></a>"
      ]
    },
    {
      "cell_type": "markdown",
      "source": [
        "En este segundo ejercicio, tendréis que crear un programa que tenga una clase llamada Alumno que tenga como atributos su nombre y su nota. Deberéis de definir los métodos para inicializar sus atributos, imprimirlos y mostrar un mensaje con el resultado de la nota y si ha aprobado o no."
      ],
      "metadata": {
        "id": "tGHOl-eMJ6Ow"
      }
    },
    {
      "cell_type": "code",
      "execution_count": 7,
      "metadata": {
        "colab": {
          "base_uri": "https://localhost:8080/"
        },
        "id": "iDmQaLq6J1n5",
        "outputId": "2ea7b784-a8c6-4bd7-c506-d4f9d49b4c9e"
      },
      "outputs": [
        {
          "output_type": "stream",
          "name": "stdout",
          "text": [
            "El nombre es:  Gustavo\n",
            "La nota es:  8\n",
            "Aprobado\n",
            "------------------------\n",
            "El nombre es:  Raul\n",
            "La nota es:  5\n",
            "Desaprobado\n"
          ]
        }
      ],
      "source": [
        "class Alumno():\n",
        "  def __init__(self,nombre,nota):\n",
        "    self.nombre=nombre\n",
        "    self.nota=nota\n",
        "   \n",
        "\n",
        "  def mostrar(self):\n",
        "    print(\"El nombre es: \", self.nombre)\n",
        "    print(\"La nota es: \", self.nota)\n",
        "\n",
        " \n",
        "  def estado( self):\n",
        "    if (self.nota)>7:\n",
        "      print(\"Aprobado\")\n",
        "    else:\n",
        "      print(\"Desaprobado\")\n",
        " \n",
        "alumno_1=Alumno(\"Gustavo\", 8)\n",
        "alumno_1.mostrar()\n",
        "alumno_1.estado()\n",
        "print(\"------------------------\")\n",
        "alumno_2=Alumno(\"Raul\", 5)\n",
        "alumno_2.mostrar()\n",
        "alumno_2.estado()"
      ]
    }
  ]
}