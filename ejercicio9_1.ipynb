{
  "nbformat": 4,
  "nbformat_minor": 0,
  "metadata": {
    "colab": {
      "provenance": [],
      "authorship_tag": "ABX9TyOO70ypwe+RiFaGAtphNq0j",
      "include_colab_link": true
    },
    "kernelspec": {
      "name": "python3",
      "display_name": "Python 3"
    },
    "language_info": {
      "name": "python"
    }
  },
  "cells": [
    {
      "cell_type": "markdown",
      "metadata": {
        "id": "view-in-github",
        "colab_type": "text"
      },
      "source": [
        "<a href=\"https://colab.research.google.com/github/gustavopaglione/ejerciciospython/blob/master/ejercicio9_1.ipynb\" target=\"_parent\"><img src=\"https://colab.research.google.com/assets/colab-badge.svg\" alt=\"Open In Colab\"/></a>"
      ]
    },
    {
      "cell_type": "markdown",
      "source": [
        "Crea un script que le pida al usuario una lista de países (separados por comas). Éstos se deben almacenar en una lista. No debería haber países repetidos (haz uso de set). Finalmente, muestra por consola la lista de países ordenados alfabéticamente y separados por comas."
      ],
      "metadata": {
        "id": "-UDzKzP9UHbZ"
      }
    },
    {
      "cell_type": "code",
      "execution_count": 4,
      "metadata": {
        "colab": {
          "base_uri": "https://localhost:8080/"
        },
        "id": "OfnQ0eM9UEWT",
        "outputId": "89075e48-5ac1-4f5f-c950-1f6b0556a6c6"
      },
      "outputs": [
        {
          "output_type": "stream",
          "name": "stdout",
          "text": [
            "Ingrese una lista de países separados por comas: argentina, brasil, brasil, venezuela, republica dominicana, otros\n",
            " brasil,  otros,  republica dominicana,  venezuela, argentina\n"
          ]
        }
      ],
      "source": [
        "países = input(\"Ingrese una lista de países separados por comas: \")\n",
        "países_lista = países.split(\",\")\n",
        "países_sin_repetir = set(países_lista)\n",
        "países_ordenados = sorted(países_sin_repetir)\n",
        "print(\", \".join(países_ordenados))"
      ]
    }
  ]
}