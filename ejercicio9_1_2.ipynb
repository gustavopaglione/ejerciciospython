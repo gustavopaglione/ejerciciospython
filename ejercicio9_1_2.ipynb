{
  "nbformat": 4,
  "nbformat_minor": 0,
  "metadata": {
    "colab": {
      "provenance": [],
      "authorship_tag": "ABX9TyMSwGa/hgxd5GYFVOVrqAPx",
      "include_colab_link": true
    },
    "kernelspec": {
      "name": "python3",
      "display_name": "Python 3"
    },
    "language_info": {
      "name": "python"
    }
  },
  "cells": [
    {
      "cell_type": "markdown",
      "metadata": {
        "id": "view-in-github",
        "colab_type": "text"
      },
      "source": [
        "<a href=\"https://colab.research.google.com/github/gustavopaglione/ejerciciospython/blob/master/ejercicio9_1_2.ipynb\" target=\"_parent\"><img src=\"https://colab.research.google.com/assets/colab-badge.svg\" alt=\"Open In Colab\"/></a>"
      ]
    },
    {
      "cell_type": "markdown",
      "source": [
        "En este segundo ejercicio, tenéis que crear una aplicación que obtendrá los elementos impares de una lista pasada por parámetro con filter y realizará una suma de todos estos elementos obtenidos mediante reduce."
      ],
      "metadata": {
        "id": "gSIWGJIUWqEU"
      }
    },
    {
      "cell_type": "code",
      "execution_count": 1,
      "metadata": {
        "colab": {
          "base_uri": "https://localhost:8080/"
        },
        "id": "9jhe4qpEWkai",
        "outputId": "332f41d4-f69b-4304-d2a5-71d7b7bca1e1"
      },
      "outputs": [
        {
          "output_type": "stream",
          "name": "stdout",
          "text": [
            "25\n"
          ]
        }
      ],
      "source": [
        "from functools import reduce\n",
        "\n",
        "def obtener_impares_y_sumar(lista):\n",
        "    impares = list(filter(lambda x: x % 2 != 0, lista))\n",
        "    suma = reduce(lambda x, y: x + y, impares)\n",
        "    return suma\n",
        "\n",
        "lista = [1, 2, 3, 4, 5, 6, 7, 8, 9]\n",
        "resultado = obtener_impares_y_sumar(lista)\n",
        "print(resultado)\n",
        "\n",
        "\n"
      ]
    }
  ]
}