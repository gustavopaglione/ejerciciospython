{
  "nbformat": 4,
  "nbformat_minor": 0,
  "metadata": {
    "colab": {
      "provenance": [],
      "authorship_tag": "ABX9TyN7zVZXz435qfa8dOlnnh5T",
      "include_colab_link": true
    },
    "kernelspec": {
      "name": "python3",
      "display_name": "Python 3"
    },
    "language_info": {
      "name": "python"
    }
  },
  "cells": [
    {
      "cell_type": "markdown",
      "metadata": {
        "id": "view-in-github",
        "colab_type": "text"
      },
      "source": [
        "<a href=\"https://colab.research.google.com/github/gustavopaglione/ejerciciospython/blob/master/Ejercicio_2.ipynb\" target=\"_parent\"><img src=\"https://colab.research.google.com/assets/colab-badge.svg\" alt=\"Open In Colab\"/></a>"
      ]
    },
    {
      "cell_type": "markdown",
      "source": [
        "En este segundo ejercicio, tendréis que crear un archivo py y dentro crearéis una clase Vehículo, haréis un objeto de ella, lo guardaréis en un archivo y luego lo cargamos."
      ],
      "metadata": {
        "id": "GYScYjhQ-YSO"
      }
    },
    {
      "cell_type": "code",
      "source": [
        "import pickle\n",
        "\n",
        "class Vehiculo:\n",
        "    def __init__(self, marca, modelo, año):\n",
        "        self.marca = marca\n",
        "        self.modelo = modelo\n",
        "        self.año = año\n",
        "\n",
        "# Crear un objeto de la clase Vehiculo\n",
        "mi_vehiculo = Vehiculo(\"Toyota\", \"Corolla\", 2020)\n",
        "\n",
        "# Guardar el objeto en un archivo\n",
        "with open(\"mi_vehiculo.pickle\", \"wb\") as f:\n",
        "    pickle.dump(mi_vehiculo, f)\n",
        "\n",
        "# Cargar el objeto desde el archivo\n",
        "with open(\"mi_vehiculo.pickle\", \"rb\") as f:\n",
        "    mi_vehiculo_cargado = pickle.load(f)\n",
        "\n",
        "print(mi_vehiculo_cargado.marca) # imprimirá \"Toyota\"\n",
        "\n",
        "\n"
      ],
      "metadata": {
        "colab": {
          "base_uri": "https://localhost:8080/"
        },
        "id": "sy2JjVxN-hJt",
        "outputId": "0ab8d3c2-95b7-43cb-bad4-9fe56a337b45"
      },
      "execution_count": 25,
      "outputs": [
        {
          "output_type": "stream",
          "name": "stdout",
          "text": [
            "Toyota\n"
          ]
        }
      ]
    }
  ]
}