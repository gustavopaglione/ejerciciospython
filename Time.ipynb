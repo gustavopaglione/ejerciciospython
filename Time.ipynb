{
  "nbformat": 4,
  "nbformat_minor": 0,
  "metadata": {
    "colab": {
      "provenance": [],
      "authorship_tag": "ABX9TyNVfkBW0q56ZonuqZEgvua5",
      "include_colab_link": true
    },
    "kernelspec": {
      "name": "python3",
      "display_name": "Python 3"
    },
    "language_info": {
      "name": "python"
    }
  },
  "cells": [
    {
      "cell_type": "markdown",
      "metadata": {
        "id": "view-in-github",
        "colab_type": "text"
      },
      "source": [
        "<a href=\"https://colab.research.google.com/github/gustavopaglione/ejerciciospython/blob/master/Time.ipynb\" target=\"_parent\"><img src=\"https://colab.research.google.com/assets/colab-badge.svg\" alt=\"Open In Colab\"/></a>"
      ]
    },
    {
      "cell_type": "markdown",
      "source": [
        "En este segundo ejercicios tendréis que crear un script que nos diga si es la hora de ir a casa. Tendréis que hacer uso del modulo time. Necesitaréis la fecha del sistema y poder comprobar la hora.\n",
        "\n",
        "En el caso de que sean más de las 7, se mostrará un mensaje y en caso contrario, haréis una operación para calcular el tiempo que queda de trabajo."
      ],
      "metadata": {
        "id": "XKzt8b5aPCFc"
      }
    },
    {
      "cell_type": "code",
      "source": [
        "import time\n",
        "\n",
        "hora_actual = time.strftime('%H:%M:%S')\n",
        "hora_salida = time.strftime('07:00:00')\n",
        "print(hora_actual)\n",
        "print(hora_salida)\n",
        "\n",
        "\n",
        "if hora_actual > hora_salida:\n",
        "  print(\"Hora de ir a casa\")\n",
        "else:\n",
        "  print(\"Faltan\", hora_actual, \"hs para salir\")\n",
        "  \n",
        "\n",
        "\n",
        "\n",
        "\n",
        "\n"
      ],
      "metadata": {
        "colab": {
          "base_uri": "https://localhost:8080/"
        },
        "id": "goawY1JAPBPS",
        "outputId": "217540d4-54dd-48fb-f9b5-2f1a1204f001"
      },
      "execution_count": 18,
      "outputs": [
        {
          "output_type": "stream",
          "name": "stdout",
          "text": [
            "01:33:06\n",
            "07:00:00\n",
            "1669771986.9055858\n",
            "Faltan 01:33:06 hs para salir\n"
          ]
        }
      ]
    }
  ]
}