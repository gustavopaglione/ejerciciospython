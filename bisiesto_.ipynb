{
  "nbformat": 4,
  "nbformat_minor": 0,
  "metadata": {
    "colab": {
      "provenance": [],
      "authorship_tag": "ABX9TyNJJNjrJaYYz0vFwCjkIaWP",
      "include_colab_link": true
    },
    "kernelspec": {
      "name": "python3",
      "display_name": "Python 3"
    },
    "language_info": {
      "name": "python"
    }
  },
  "cells": [
    {
      "cell_type": "markdown",
      "metadata": {
        "id": "view-in-github",
        "colab_type": "text"
      },
      "source": [
        "<a href=\"https://colab.research.google.com/github/gustavopaglione/ejerciciospython/blob/master/bisiesto_.ipynb\" target=\"_parent\"><img src=\"https://colab.research.google.com/assets/colab-badge.svg\" alt=\"Open In Colab\"/></a>"
      ]
    },
    {
      "cell_type": "markdown",
      "source": [
        "Escribe una función que pueda decirte si un año (número entero) es bisiesto o no."
      ],
      "metadata": {
        "id": "NWSzq4TfXKw1"
      }
    },
    {
      "cell_type": "code",
      "source": [
        "def año_bisiesto(a):\n",
        "  if a != 2024 or a != 2020:\n",
        "    return (\"no es año bisiesto\")\n",
        "\n",
        "bisiesto=año_bisiesto(2002)\n",
        "print(bisiesto)\n"
      ],
      "metadata": {
        "colab": {
          "base_uri": "https://localhost:8080/"
        },
        "id": "fGiq-cogXN3M",
        "outputId": "8459ac13-e5c5-448a-d247-a5123bd78c1a"
      },
      "execution_count": 5,
      "outputs": [
        {
          "output_type": "stream",
          "name": "stdout",
          "text": [
            "no es año bisiesto\n"
          ]
        }
      ]
    }
  ]
}