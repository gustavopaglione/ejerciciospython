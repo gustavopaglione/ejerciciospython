{
  "nbformat": 4,
  "nbformat_minor": 0,
  "metadata": {
    "colab": {
      "name": "Clase7Listas.ipynb",
      "provenance": [],
      "collapsed_sections": [],
      "authorship_tag": "ABX9TyOODu8yTbQpSAKThzLjHk3r",
      "include_colab_link": true
    },
    "kernelspec": {
      "name": "python3",
      "display_name": "Python 3"
    },
    "language_info": {
      "name": "python"
    }
  },
  "cells": [
    {
      "cell_type": "markdown",
      "metadata": {
        "id": "view-in-github",
        "colab_type": "text"
      },
      "source": [
        "<a href=\"https://colab.research.google.com/github/gustavopaglione/ejerciciospython/blob/master/Clase7Listas.ipynb\" target=\"_parent\"><img src=\"https://colab.research.google.com/assets/colab-badge.svg\" alt=\"Open In Colab\"/></a>"
      ]
    },
    {
      "cell_type": "markdown",
      "source": [
        "1) Codear un programa que le permita crear una lista de palabras,\n",
        "las cuales son ingresadas por consola. Para esto, el programa\n",
        "debe pedir al usuario la cantidad de palabras, y luego agregar\n",
        "las palabras por consola. Si se le ingresa 0, deberá informar que\n",
        "no es posible agregar 0 palabras."
      ],
      "metadata": {
        "id": "vO676Z0YJKIV"
      }
    },
    {
      "cell_type": "code",
      "source": [
        ""
      ],
      "metadata": {
        "id": "SD7t5d44Jk10"
      },
      "execution_count": null,
      "outputs": []
    },
    {
      "cell_type": "code",
      "source": [
        "\n",
        "numero_palabras = int(input(\"Digame cuantas palabras tiene la lista:\"))\n",
        "\n",
        "if numero_palabras < 1:\n",
        "      print(\"¡Imposible!\")\n",
        "else:\n",
        "      lista = []\n",
        "      for i in range(numero_palabras):\n",
        "          palabra = input(f\"Dígame la palabra {i + 1}: \")\n",
        "          lista += [palabra]\n",
        "      print(f\"La lista creada es: {lista}\")\n",
        "\n",
        "\n"
      ],
      "metadata": {
        "colab": {
          "base_uri": "https://localhost:8080/"
        },
        "id": "H3CDst3WE2cN",
        "outputId": "c179e26d-0230-4a07-8ba6-2338fbe1f0bd"
      },
      "execution_count": 8,
      "outputs": [
        {
          "output_type": "stream",
          "name": "stdout",
          "text": [
            "Digame cuantas palabras tiene la lista:0\n",
            "¡Imposible!\n"
          ]
        }
      ]
    },
    {
      "cell_type": "markdown",
      "source": [
        "2) Codear un programa que le permita crear una lista de palabras y\n",
        "que, a continuación, pida una palabra y diga cuántas veces\n",
        "aparece la misma dentro de la lista."
      ],
      "metadata": {
        "id": "fOPanik3M4yt"
      }
    },
    {
      "cell_type": "code",
      "source": [
        "numero = int(input(\"Dígame cuántas palabras tiene la lista: \"))\n",
        "\n",
        "if numero < 1:\n",
        "      print(\"¡Imposible!\")\n",
        "else:\n",
        "      lista = []\n",
        "      for i in range(numero):\n",
        "          palabra = input(f\"Dígame la palabra {i + 1}: \")\n",
        "          lista += [palabra]\n",
        "      print(f\"La lista creada es: {lista}\")\n",
        "\n",
        "      buscar = input(\"Dígame la palabra a buscar: \")\n",
        "      contador = 0\n",
        "      for i in lista:\n",
        "          if i == buscar:\n",
        "              contador += 1\n",
        "      if contador == 0:\n",
        "          print(f\"La palabra '{buscar}' no aparece en la lista.\")\n",
        "      elif contador == 1:\n",
        "          print(f\"La palabra '{buscar}' aparece una vez en la lista.\")\n",
        "      else:\n",
        "          print(f\"La palabra '{buscar}' aparece {contador} veces en la lista.\")"
      ],
      "metadata": {
        "colab": {
          "base_uri": "https://localhost:8080/"
        },
        "id": "OMjHSgvoM6W1",
        "outputId": "ff3b45d9-a5fd-49cb-e4f7-4e2499c243af"
      },
      "execution_count": 13,
      "outputs": [
        {
          "output_type": "stream",
          "name": "stdout",
          "text": [
            "Dígame cuántas palabras tiene la lista: 4\n",
            "Dígame la palabra 1: Carmen\n",
            "Dígame la palabra 2: Alberto\n",
            "Dígame la palabra 3: Benito\n",
            "Dígame la palabra 4: Carmen\n",
            "La lista creada es: ['Carmen', 'Alberto', 'Benito', 'Carmen']\n",
            "Dígame la palabra a buscar: Carmen\n",
            "La palabra 'Carmen' aparece 2 veces en la lista.\n"
          ]
        }
      ]
    },
    {
      "cell_type": "markdown",
      "source": [
        "3) Codear un programa que le permita crear una lista de palabras y\n",
        "que luego le pida 2 palabras y reemplace la primera palabra por\n",
        "la segunda en la lista.\n"
      ],
      "metadata": {
        "id": "eokpez9aVcQu"
      }
    },
    {
      "cell_type": "code",
      "source": [
        "numero = int(input(\"Dígame cuántas palabras tiene la lista: \"))\n",
        "\n",
        "if numero < 1:\n",
        "      print(\"¡Imposible!\")\n",
        "else:\n",
        "      lista = []\n",
        "      for i in range(numero):\n",
        "          palabra = input(f\"Dígame la palabra {i + 1}: \")\n",
        "          lista += [palabra]\n",
        "      print(f\"La lista creada es: {lista}\")\n",
        "\n",
        "      buscar = input(\"Sustituir la palabra: \")\n",
        "      sustituir = input(\"por la palabra: \")\n",
        "      for i in range(len(lista)):\n",
        "          if lista[i] == buscar:\n",
        "              lista[i] = sustituir\n",
        "      print(f\"La lista es ahora: {lista}\")\n"
      ],
      "metadata": {
        "colab": {
          "base_uri": "https://localhost:8080/"
        },
        "id": "qe5nfzk7VeEM",
        "outputId": "e631a699-32a2-4526-a9ec-4563b0d35dad"
      },
      "execution_count": 15,
      "outputs": [
        {
          "output_type": "stream",
          "name": "stdout",
          "text": [
            "Dígame cuántas palabras tiene la lista: 4\n",
            "Dígame la palabra 1: Alberto\n",
            "Dígame la palabra 2: Carmen \n",
            "Dígame la palabra 3: Beniro\n",
            "Dígame la palabra 4: Carmen\n",
            "La lista creada es: ['Alberto', 'Carmen ', 'Beniro', 'Carmen']\n",
            "Sustituir la palabra: Carmen\n",
            "por la palabra: David\n",
            "La lista es ahora: ['Alberto', 'Carmen ', 'Beniro', 'David']\n"
          ]
        }
      ]
    },
    {
      "cell_type": "markdown",
      "source": [
        "4) Codear un programa que permita crear una lista de palabras y\n",
        "que luego le pida una palabra y la elimine de la lista."
      ],
      "metadata": {
        "id": "jawHAUslqm2v"
      }
    },
    {
      "cell_type": "code",
      "source": [
        ""
      ],
      "metadata": {
        "id": "nW6dzi-VqoD0"
      },
      "execution_count": null,
      "outputs": []
    },
    {
      "cell_type": "code",
      "source": [
        "numero = int(input(\"Dígame cuántas palabras tiene la lista: \"))\n",
        "\n",
        "  if numero < 1:\n",
        "      print(\"¡Imposible!\")\n",
        "  else:\n",
        "      lista = []\n",
        "      for i in range(numero):\n",
        "          palabra = input(f\"Dígame la palabra {i + 1}: \")\n",
        "          lista += [palabra]\n",
        "      print(f\"La lista creada es: {lista}\")\n",
        "\n",
        "      eliminar = input(\"Palabra a eliminar: \")\n",
        "      for i in range(len(lista) - 1, -1, -1):\n",
        "          if lista[i] == eliminar:\n",
        "              del lista[i]\n",
        "      print(f\"La lista es ahora: {lista}\")\n"
      ],
      "metadata": {
        "colab": {
          "base_uri": "https://localhost:8080/"
        },
        "outputId": "51903cdf-d396-4725-831b-31b8cd77728c",
        "id": "d0Q86iN0qr4k"
      },
      "execution_count": 5,
      "outputs": [
        {
          "output_type": "stream",
          "name": "stdout",
          "text": [
            "Dígame cuántas palabras tiene la lista: 4\n",
            "Dígame la palabra 1: Carmen\n",
            "Dígame la palabra 2: Gus\n",
            "Dígame la palabra 3: Gus\n",
            "Dígame la palabra 4: Var\n",
            "La lista creada es: ['Carmen', 'Gus', 'Gus', 'Var']\n",
            "Sustituir la palabra: Gus\n",
            "por la palabra: Carmen\n",
            "La lista es ahora: ['Carmen', 'Carmen', 'Carmen', 'Var']\n"
          ]
        }
      ]
    },
    {
      "cell_type": "markdown",
      "source": [
        "5) Codear un programa que permita crear 2 listas de palabras y\n",
        "que luego elimine de la primera lista los nombres de la segunda\n",
        "lista."
      ],
      "metadata": {
        "id": "BY78KOquxyZu"
      }
    },
    {
      "cell_type": "code",
      "source": [
        "numero = int(input(\"Dígame cuántas palabras tiene la primera lista: \"))\n",
        "\n",
        "if numero < 1:\n",
        "      print(\"¡Imposible!\")\n",
        "else:\n",
        "      primera = []\n",
        "      for i in range(numero):\n",
        "          palabra = input(f\"Dígame la palabra {i + 1}: \")\n",
        "          primera += [palabra]\n",
        "      print(f\"La primera lista es: {primera}\")\n",
        "\n",
        "      for i in range(len(primera) - 1, -1, -1):\n",
        "          if primera[i] in primera[:i]:\n",
        "              del primera[i]\n",
        "\n",
        "      numero2 = int(input(\"Dígame cuántas palabras tiene la segunda lista: \"))\n",
        "\n",
        "      if numero2 < 1:\n",
        "          print(\"¡Imposible!\")\n",
        "      else:\n",
        "          segunda = []\n",
        "          for i in range(numero2):\n",
        "              palabra = input(f\"Dígame la palabra {i + 1}: \")\n",
        "              segunda += [palabra]\n",
        "          print(f\"La segunda lista es: {segunda}\")\n",
        "\n",
        "          for i in range(len(segunda) - 1, -1, -1):\n",
        "              if segunda[i] in segunda[:i]:\n",
        "                  del segunda[i]\n",
        "\n",
        "          comunes = []\n",
        "          for i in primera:\n",
        "              if i in segunda:\n",
        "                  comunes += [i]\n",
        "          print(f\"Palabras que aparecen en las dos listas: {comunes}\")\n",
        "\n",
        "          soloPrimera = []\n",
        "          for i in primera:\n",
        "              if i not in segunda:\n",
        "                  soloPrimera += [i]\n",
        "          print(f\"Palabras que sólo aparecen en la primera lista: {soloPrimera}\")\n",
        "\n",
        "          soloSegunda = []\n",
        "          for i in segunda:\n",
        "              if i not in primera:\n",
        "                  soloSegunda += [i]\n",
        "          print(f\"Palabras que sólo aparecen en la segunda lista: {soloSegunda}\")\n",
        "\n",
        "          todas = comunes + soloPrimera + soloSegunda\n",
        "          print(f\"Todas las palabras: {todas}\")\n"
      ],
      "metadata": {
        "colab": {
          "base_uri": "https://localhost:8080/"
        },
        "id": "RPLIBrKOx0se",
        "outputId": "ea9d67d6-b678-42a3-8c5a-6ef48c451665"
      },
      "execution_count": 33,
      "outputs": [
        {
          "output_type": "stream",
          "name": "stdout",
          "text": [
            "Dígame cuántas palabras tiene la primera lista: 3\n",
            "Dígame la palabra 1: gus\n",
            "Dígame la palabra 2: vale\n",
            "Dígame la palabra 3: rober\n",
            "La primera lista es: ['gus', 'vale', 'rober']\n",
            "Dígame cuántas palabras tiene la segunda lista: 3\n",
            "Dígame la palabra 1: angel\n",
            "Dígame la palabra 2: gus\n",
            "Dígame la palabra 3: primo\n",
            "La segunda lista es: ['angel', 'gus', 'primo']\n",
            "Palabras que aparecen en las dos listas: ['gus']\n",
            "Palabras que sólo aparecen en la primera lista: ['vale', 'rober']\n",
            "Palabras que sólo aparecen en la segunda lista: ['angel', 'primo']\n",
            "Todas las palabras: ['gus', 'vale', 'rober', 'angel', 'primo']\n"
          ]
        }
      ]
    },
    {
      "cell_type": "markdown",
      "source": [
        "6) Escriba un programa que permita crear una lista de palabras y\n",
        "que, a continuación, cree una segunda lista igual a la primera,\n",
        "pero al revés (no se trata de escribir la lista al revés, sino de\n",
        "crear una lista distinta).\n"
      ],
      "metadata": {
        "id": "5i17q1wr1f32"
      }
    },
    {
      "cell_type": "code",
      "source": [
        ""
      ],
      "metadata": {
        "id": "EdF-L9nn1kX_"
      },
      "execution_count": null,
      "outputs": []
    },
    {
      "cell_type": "code",
      "source": [
        "  numero = int(input(\"Dígame cuántas palabras tiene la lista: \"))\n",
        "\n",
        "  if numero < 1:\n",
        "      print(\"¡Imposible!\")\n",
        "  else:\n",
        "      lista = []\n",
        "      for i in range(numero):\n",
        "          palabra = input(f\"Dígame la palabra {i + 1}: \")\n",
        "          lista += [palabra]\n",
        "      print(f\"La lista creada es: {lista}\")\n",
        "\n",
        "      inversa = []\n",
        "      for i in lista:\n",
        "          inversa = [i] + inversa\n",
        "      print(f\"La lista inversa es: {inversa}\")"
      ],
      "metadata": {
        "colab": {
          "base_uri": "https://localhost:8080/"
        },
        "outputId": "c5962fec-3b54-47cd-a9ac-ff74ac63cfa0",
        "id": "iVwJhBil1qre"
      },
      "execution_count": 15,
      "outputs": [
        {
          "output_type": "stream",
          "name": "stdout",
          "text": [
            "Dígame cuántas palabras tiene la lista: 2\n",
            "Dígame la palabra 1: sol\n",
            "Dígame la palabra 2: gus\n",
            "La lista creada es: ['sol', 'gus']\n",
            "La lista inversa es: ['gus', 'sol']\n"
          ]
        }
      ]
    },
    {
      "cell_type": "markdown",
      "source": [
        "7) Escriba un programa que permita crear una lista de palabras y\n",
        "que, a continuación, elimine los elementos repetidos (dejando\n",
        "únicamente el primero de los elementos repetidos)."
      ],
      "metadata": {
        "id": "fhpz0zvZ4Xnu"
      }
    },
    {
      "cell_type": "code",
      "source": [
        "numero = int(input(\"Dígame cuántas palabras tiene la lista: \"))\n",
        "\n",
        "if numero < 1:\n",
        "      print(\"¡Imposible!\")\n",
        "else:\n",
        "      lista = []\n",
        "      for i in range(numero):\n",
        "          palabra = input(f\"Dígame la palabra {i + 1}: \")\n",
        "          lista += [palabra]\n",
        "      print(f\"La lista creada es: {lista}\")\n",
        "\n",
        "      for i in range(len(lista) - 1, -1, -1):\n",
        "          if lista[i] in lista[:i]:\n",
        "              del lista[i]\n",
        "      print(f\"La lista sin repeticiones es: {lista}\")"
      ],
      "metadata": {
        "colab": {
          "base_uri": "https://localhost:8080/"
        },
        "id": "RVsx5EUq4Yx1",
        "outputId": "06cfb2c9-f493-4165-df88-6c7ad185fca5"
      },
      "execution_count": 24,
      "outputs": [
        {
          "output_type": "stream",
          "name": "stdout",
          "text": [
            "Dígame cuántas palabras tiene la lista: 5\n",
            "Dígame la palabra 1: gus\n",
            "Dígame la palabra 2: caro\n",
            "Dígame la palabra 3: vale\n",
            "Dígame la palabra 4: caro\n",
            "Dígame la palabra 5: gus\n",
            "La lista creada es: ['gus', 'caro', 'vale', 'caro', 'gus']\n",
            "La lista sin repeticiones es: ['gus', 'caro', 'vale']\n"
          ]
        }
      ]
    },
    {
      "cell_type": "markdown",
      "source": [
        "8) Escriba un programa que permita crear dos listas de palabras y\n",
        "que, a continuación, escriba las siguientes listas (en las que no\n",
        "debe haber repeticiones):\n",
        "• Lista de palabras que aparecen en las dos listas.\n",
        "• Lista de palabras que aparecen en la primera lista, pero no en la\n",
        "segunda.\n",
        "• Lista de palabras que aparecen en la segunda lista, pero no en la\n",
        "primera.\n",
        "• Lista de palabras que aparecen en ambas listas.\n",
        "Nota: Para evitar las repeticiones, el programa deberá empezar\n",
        "eliminando los elementos repetidos en cada lista."
      ],
      "metadata": {
        "id": "kEbNs0dN6V3w"
      }
    },
    {
      "cell_type": "code",
      "source": [
        "numero = int(input(\"Dígame cuántas palabras tiene la 1 lista: \"))\n",
        "\n",
        "if numero < 1:\n",
        "      print(\"¡Imposible!\")\n",
        "else:\n",
        "      lista = []\n",
        "      for i in range(numero):\n",
        "          palabra = input(f\"Dígame la palabra {i + 1}: \")\n",
        "          lista += [palabra]\n",
        "      print(f\"La lista creada es: {lista}\")\n",
        "\n",
        "      numero2 = int(\n",
        "          input(\"Dígame cuántas palabras tiene la 2 lista:  \")\n",
        "      )\n",
        "\n",
        "      if numero2 < 1:\n",
        "          print(\"¡Imposible!\")\n",
        "      else:\n",
        "          eliminar = []\n",
        "          for i in range(numero2):\n",
        "              palabra = input(f\"Dígame la palabra {i + 1}: \")\n",
        "              lista2 += [palabra]\n",
        "          print(f\"La 2 lista de palabras es: {lista2}\")\n",
        "\n",
        "          for i in eliminar:\n",
        "              for j in range(len(lista) - 1, -1, -1):\n",
        "                  if lista[j] == i:\n",
        "                      del lista[j]\n",
        "          print(f\"La lista es ahora: {lista}\")"
      ],
      "metadata": {
        "id": "8uNJjbgv6W-X"
      },
      "execution_count": null,
      "outputs": []
    }
  ]
}